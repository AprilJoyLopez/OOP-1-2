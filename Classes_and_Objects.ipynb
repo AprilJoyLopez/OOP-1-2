{
  "nbformat": 4,
  "nbformat_minor": 0,
  "metadata": {
    "colab": {
      "name": "Classes and Objects2.ipynb",
      "provenance": [],
      "authorship_tag": "ABX9TyM6JtcNaaRehJ335CUm6EA0",
      "include_colab_link": true
    },
    "kernelspec": {
      "name": "python3",
      "display_name": "Python 3"
    },
    "language_info": {
      "name": "python"
    }
  },
  "cells": [
    {
      "cell_type": "markdown",
      "metadata": {
        "id": "view-in-github",
        "colab_type": "text"
      },
      "source": [
        "<a href=\"https://colab.research.google.com/github/prljylopez/OOP-1-2/blob/main/Classes_and_Objects.ipynb\" target=\"_parent\"><img src=\"https://colab.research.google.com/assets/colab-badge.svg\" alt=\"Open In Colab\"/></a>"
      ]
    },
    {
      "cell_type": "markdown",
      "source": [
        "###Define an Area() method of the class that calculates the circle’s area.\n"
      ],
      "metadata": {
        "id": "x4IwUsXC3ggu"
      }
    },
    {
      "cell_type": "code",
      "source": [
        "class Area:\n",
        "  def __init__(self,Radius):\n",
        "    self.Radius = Radius\n",
        "\n",
        "\n",
        "  def Area(self):\n",
        "    return (3.14*(self.Radius*self.Radius))\n",
        "\n",
        "input_radius = float(input(\"Input the radius of the circle:\"))\n",
        "area1 = Area(input_radius)\n",
        "print(\"The area of the circle is:\" ,area1.Area())"
      ],
      "metadata": {
        "colab": {
          "base_uri": "https://localhost:8080/"
        },
        "id": "-4uJ1W8v3t36",
        "outputId": "6067f728-12bc-49b0-e43c-fc8aca06cdcd"
      },
      "execution_count": 6,
      "outputs": [
        {
          "output_type": "stream",
          "name": "stdout",
          "text": [
            "Input the radius of the circle:25\n",
            "The area of the circle is: 1962.5\n"
          ]
        }
      ]
    },
    {
      "cell_type": "markdown",
      "source": [
        "###Define a Perimeter() method of the class which allows you to calculate the perimeter of the circle."
      ],
      "metadata": {
        "id": "SdDMDVZX67MY"
      }
    },
    {
      "cell_type": "code",
      "source": [
        "class Perimeter:\n",
        "  def __init__(self, Radius):\n",
        "   self.Radius = Radius\n",
        "\n",
        "  def Perimeter(self):\n",
        "    return (2*3.14*self.Radius)\n",
        "\n",
        "input_radius = float(input(\"Input the radius of the circle: \"))\n",
        "perimeter1 = Perimeter(input_radius)\n",
        "print(\"The perimeter of the circle is: \", perimeter1.Perimeter())"
      ],
      "metadata": {
        "colab": {
          "base_uri": "https://localhost:8080/"
        },
        "id": "K6ff3-Gb7KcF",
        "outputId": "3ee2e108-8e52-48a9-c93c-f3d259539bd5"
      },
      "execution_count": 18,
      "outputs": [
        {
          "output_type": "stream",
          "name": "stdout",
          "text": [
            "Input the radius of the circle: 2\n",
            "The perimeter of the circle is:  12.56\n"
          ]
        }
      ]
    }
  ]
}