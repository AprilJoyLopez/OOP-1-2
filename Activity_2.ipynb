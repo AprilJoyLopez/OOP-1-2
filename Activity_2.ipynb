{
  "nbformat": 4,
  "nbformat_minor": 0,
  "metadata": {
    "colab": {
      "name": "Activity 2.ipynb",
      "provenance": [],
      "authorship_tag": "ABX9TyN9MpvVYumW9bzou+5KHh3U",
      "include_colab_link": true
    },
    "kernelspec": {
      "name": "python3",
      "display_name": "Python 3"
    },
    "language_info": {
      "name": "python"
    }
  },
  "cells": [
    {
      "cell_type": "markdown",
      "metadata": {
        "id": "view-in-github",
        "colab_type": "text"
      },
      "source": [
        "<a href=\"https://colab.research.google.com/github/prljylopez/OOP-1-2/blob/main/Activity_2.ipynb\" target=\"_parent\"><img src=\"https://colab.research.google.com/assets/colab-badge.svg\" alt=\"Open In Colab\"/></a>"
      ]
    },
    {
      "cell_type": "code",
      "execution_count": 10,
      "metadata": {
        "id": "wfTZQFvfWukS"
      },
      "outputs": [],
      "source": [
        "#Write a python program that converts Celsius to Farenheit. Create a class name Temperature.\n",
        "#Create Celsius as attribute name, Temp() as method, and temp1 as object name.\n",
        "\n",
        "class Temperature:\n",
        "  \n",
        "\n",
        "  def __init__(self, Celsius):\n",
        "    self.Celsius = Celsius\n",
        "\n",
        "  def Temp(self):\n",
        "    result = float((1.8*self.Celsius)+32)\n",
        "\n",
        "temp1 = Temperature(30)\n",
        "temp1.Temp()"
      ]
    },
    {
      "cell_type": "code",
      "source": [
        "##Yuan code\n",
        "\n",
        "class Temperature:\n",
        "\n",
        "  def __init__(self,Celsius):\n",
        "    self.Celsius = Celsius\n",
        "\n",
        "  def Temp(self):\n",
        "    result = float((1.8*self.Celsius)+32)\n",
        "    return result\n",
        "\n",
        "\n",
        "input_temp = float(input(\"Input Temperature in celsius:\"))\n",
        "temp1 = Temperature(input_temp)\n",
        "print(round(temp1.Temp(),3))"
      ],
      "metadata": {
        "colab": {
          "base_uri": "https://localhost:8080/"
        },
        "id": "pe9rhS7mbQfr",
        "outputId": "1a208b3d-3a49-4a8c-e1f1-6714d83efda9"
      },
      "execution_count": 9,
      "outputs": [
        {
          "output_type": "stream",
          "name": "stdout",
          "text": [
            "Input Temperature in celsius:38\n",
            "100.4\n"
          ]
        }
      ]
    },
    {
      "cell_type": "code",
      "source": [
        "class Temperature:\n",
        "\n",
        "  def __init__(self,Celsius):\n",
        "    self.Celsius = Celsius\n",
        "\n",
        "  def Temp(self):\n",
        "    return ((1.8*self.Celsius)+32)\n",
        "    \n",
        "\n",
        "\n",
        "input_temp = float(input(\"Input Temperature in Celsius:\"))\n",
        "temp1 = Temperature(input_temp)\n",
        "print(round(temp1.Temp(),2))"
      ],
      "metadata": {
        "colab": {
          "base_uri": "https://localhost:8080/"
        },
        "id": "RXeV4j2id2Og",
        "outputId": "415e29b5-68c1-4b8f-e3e3-67ad8f0b4cad"
      },
      "execution_count": 13,
      "outputs": [
        {
          "output_type": "stream",
          "name": "stdout",
          "text": [
            "Input Temperature in Celsius:40\n",
            "104.0\n"
          ]
        }
      ]
    }
  ]
}