{
  "nbformat": 4,
  "nbformat_minor": 0,
  "metadata": {
    "colab": {
      "name": "Activity 2.ipynb",
      "provenance": [],
      "authorship_tag": "ABX9TyN8r475tdljMFhrAVTOr9Bu",
      "include_colab_link": true
    },
    "kernelspec": {
      "name": "python3",
      "display_name": "Python 3"
    },
    "language_info": {
      "name": "python"
    }
  },
  "cells": [
    {
      "cell_type": "markdown",
      "metadata": {
        "id": "view-in-github",
        "colab_type": "text"
      },
      "source": [
        "<a href=\"https://colab.research.google.com/github/prljylopez/OOP-1-2/blob/main/Activity_2.ipynb\" target=\"_parent\"><img src=\"https://colab.research.google.com/assets/colab-badge.svg\" alt=\"Open In Colab\"/></a>"
      ]
    },
    {
      "cell_type": "code",
      "execution_count": null,
      "metadata": {
        "id": "wfTZQFvfWukS"
      },
      "outputs": [],
      "source": [
        "#Write a python program that converts Celsius to Farenheit. Create a class name Temperature.\n",
        "#Create Celsius as attribute name, Temp() as method, and temp1 as object name.\n",
        "\n",
        "class Temperature:\n",
        "  \n",
        "\n",
        "  def __init__(self, Celsius):\n",
        "    self.Celsius = Celsius\n",
        "\n",
        "  def Temp(self):\n",
        "    result = float((1.8*self.Celsius)+32)\n",
        "\n",
        "temp1 = Temperature(30)\n",
        "temp1.Temp()"
      ]
    },
    {
      "cell_type": "code",
      "source": [
        "##Yuan code\n",
        "\n",
        "class Temperature:\n",
        "\n",
        "  def __init__(self,Celsius):\n",
        "    self.Celsius = Celsius\n",
        "\n",
        "  def Temp(self):\n",
        "    result = float((1.8*self.Celsius)+32)\n",
        "    return result\n",
        "\n",
        "\n",
        "input_temp = float(input(\"Input Temperature in celsius:\"))\n",
        "temp1 = Temperature(input_temp)\n",
        "print(round(temp1.Temp(),3))"
      ],
      "metadata": {
        "colab": {
          "base_uri": "https://localhost:8080/"
        },
        "id": "pe9rhS7mbQfr",
        "outputId": "1a208b3d-3a49-4a8c-e1f1-6714d83efda9"
      },
      "execution_count": null,
      "outputs": [
        {
          "output_type": "stream",
          "name": "stdout",
          "text": [
            "Input Temperature in celsius:38\n",
            "100.4\n"
          ]
        }
      ]
    },
    {
      "cell_type": "code",
      "source": [
        "class Temperature:\n",
        "\n",
        "  def __init__(self,Celsius):\n",
        "    self.Celsius = Celsius\n",
        "\n",
        "  def Temp(self):\n",
        "    return ((1.8*self.Celsius)+32)\n",
        "    \n",
        "\n",
        "\n",
        "input_temp = float(input(\"Input Temperature in Celsius:\"))\n",
        "temp1 = Temperature(input_temp)\n",
        "print(round(temp1.Temp(),2))"
      ],
      "metadata": {
        "colab": {
          "base_uri": "https://localhost:8080/"
        },
        "id": "RXeV4j2id2Og",
        "outputId": "415e29b5-68c1-4b8f-e3e3-67ad8f0b4cad"
      },
      "execution_count": null,
      "outputs": [
        {
          "output_type": "stream",
          "name": "stdout",
          "text": [
            "Input Temperature in Celsius:40\n",
            "104.0\n"
          ]
        }
      ]
    },
    {
      "cell_type": "markdown",
      "source": [
        "#Assignment\n"
      ],
      "metadata": {
        "id": "daTpvAAfD5YB"
      }
    },
    {
      "cell_type": "markdown",
      "source": [
        "#####Define an Area() method of the class that calculates the circle’s area."
      ],
      "metadata": {
        "id": "NkwEXzOmD_VI"
      }
    },
    {
      "cell_type": "code",
      "source": [
        "class Area:\n",
        "  def __init__(self,Radius):\n",
        "    self.Radius = Radius\n",
        "\n",
        "\n",
        "  def Area(self):\n",
        "    return (3.14*(self.Radius*self.Radius))\n",
        "\n",
        "input_radius = float(input(\"Input the radius of the circle:\"))\n",
        "area1 = Area(input_radius)\n",
        "print(\"The area of the circle is:\" ,area1.Area())"
      ],
      "metadata": {
        "colab": {
          "base_uri": "https://localhost:8080/"
        },
        "id": "1npmDHQ_D-l_",
        "outputId": "0ccab00c-fea3-431f-e301-213c8ecfaea8"
      },
      "execution_count": 4,
      "outputs": [
        {
          "output_type": "stream",
          "name": "stdout",
          "text": [
            "Input the radius of the circle:4\n",
            "The area of the circle is: 50.24\n"
          ]
        }
      ]
    },
    {
      "cell_type": "markdown",
      "source": [
        "#####Define a Perimeter() method of the class which allows you to calculate the perimeter of the circle."
      ],
      "metadata": {
        "id": "pREp6A6fEPXL"
      }
    },
    {
      "cell_type": "code",
      "source": [
        "class Perimeter:\n",
        "  def __init__(self, Radius):\n",
        "   self.Radius = Radius\n",
        "\n",
        "  def Perimeter(self):\n",
        "    return (2*3.14*self.Radius)\n",
        "\n",
        "input_radius = float(input(\"Input the radius of the circle: \"))\n",
        "perimeter1 = Perimeter(input_radius)\n",
        "print(\"The perimeter of the circle is: \", perimeter1.Perimeter())"
      ],
      "metadata": {
        "colab": {
          "base_uri": "https://localhost:8080/"
        },
        "id": "JGD44ozfEYmh",
        "outputId": "e7a755a1-7518-4518-cba8-accc5a5196a4"
      },
      "execution_count": 5,
      "outputs": [
        {
          "output_type": "stream",
          "name": "stdout",
          "text": [
            "Input the radius of the circle: 4\n",
            "The perimeter of the circle is:  25.12\n"
          ]
        }
      ]
    }
  ]
}