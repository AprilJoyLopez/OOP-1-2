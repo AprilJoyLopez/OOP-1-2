{
  "nbformat": 4,
  "nbformat_minor": 0,
  "metadata": {
    "colab": {
      "name": "Prelim Exam.ipynb",
      "provenance": [],
      "authorship_tag": "ABX9TyPA+TO0SNaE9GUzXWzjsmOZ",
      "include_colab_link": true
    },
    "kernelspec": {
      "name": "python3",
      "display_name": "Python 3"
    },
    "language_info": {
      "name": "python"
    }
  },
  "cells": [
    {
      "cell_type": "markdown",
      "metadata": {
        "id": "view-in-github",
        "colab_type": "text"
      },
      "source": [
        "<a href=\"https://colab.research.google.com/github/prljylopez/OOP-1-2/blob/main/Prelim_Exam.ipynb\" target=\"_parent\"><img src=\"https://colab.research.google.com/assets/colab-badge.svg\" alt=\"Open In Colab\"/></a>"
      ]
    },
    {
      "cell_type": "markdown",
      "source": [
        "##Prelim Exam\n",
        "##### 1. Write a Python to display your full name, student number, age, and course\n",
        "##### 2. Create a class named Student with attributes: Name, Student_No, Age, School, and Course\n",
        "##### 3. Create an object name Myself and assign an instance for each attribute.\n",
        "##### 4. Create a method Info() using an instantiation of a class.\n",
        "##### 5. Insert your GitHub link \"Prelim Exam\" from your repository named \"OOP 1-2\"\n",
        "\n"
      ],
      "metadata": {
        "id": "nh4JSMJFjjUC"
      }
    },
    {
      "cell_type": "code",
      "source": [
        "class Student:\n",
        "  def __init__(self,Name,Student_No,Age,School,Course):\n",
        "    self.Name = Name\n",
        "    self.Student_No = Student_No\n",
        "    self.Age = Age \n",
        "    self.School = School\n",
        "    self.Course = Course\n",
        "\n",
        "  def Info(self):\n",
        "    print(self.Name,self.Student_No,self.Age,self.School,self.Course)\n",
        "\n",
        "Myself = Student(\"April Joy S. Lopez\", \"202105215\", \"18 years of age\", \"Cavite State University - Main Campus(Indang)\", \"Bachelor of Science in Computer Engineering\")\n",
        "print(\"Fullname:\", Myself.Name)\n",
        "print(\"Student No:\", Myself.Student_No)\n",
        "print(\"Age:\", Myself.Age)\n",
        "print(\"School:\", Myself.School)\n",
        "print(\"Course Program:\", Myself.Course)"
      ],
      "metadata": {
        "colab": {
          "base_uri": "https://localhost:8080/"
        },
        "id": "MfTQU2NTj3fl",
        "outputId": "b28fadcd-3186-4bd5-c307-23b56d1f27c5"
      },
      "execution_count": 1,
      "outputs": [
        {
          "output_type": "stream",
          "name": "stdout",
          "text": [
            "Fullname: April Joy S. Lopez\n",
            "Student No: 202105215\n",
            "Age: 18 years of age\n",
            "School: Cavite State University - Main Campus(Indang)\n",
            "Course Program: Bachelor of Science in Computer Engineering\n"
          ]
        }
      ]
    }
  ]
}