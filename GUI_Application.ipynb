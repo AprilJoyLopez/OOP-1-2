{
  "nbformat": 4,
  "nbformat_minor": 0,
  "metadata": {
    "colab": {
      "name": "GUI_Application.ipynb",
      "provenance": [],
      "authorship_tag": "ABX9TyO+RG2HybSvjQw3KEagswMB",
      "include_colab_link": true
    },
    "kernelspec": {
      "name": "python3",
      "display_name": "Python 3"
    },
    "language_info": {
      "name": "python"
    }
  },
  "cells": [
    {
      "cell_type": "markdown",
      "metadata": {
        "id": "view-in-github",
        "colab_type": "text"
      },
      "source": [
        "<a href=\"https://colab.research.google.com/github/prljylopez/OOP-1-2/blob/main/GUI_Application.ipynb\" target=\"_parent\"><img src=\"https://colab.research.google.com/assets/colab-badge.svg\" alt=\"Open In Colab\"/></a>"
      ]
    },
    {
      "cell_type": "code",
      "execution_count": 1,
      "metadata": {
        "colab": {
          "base_uri": "https://localhost:8080/"
        },
        "id": "bT0rm8Fpz40O",
        "outputId": "159747bd-b384-4d64-e2b0-cc65a982ae1a"
      },
      "outputs": [
        {
          "output_type": "stream",
          "name": "stdout",
          "text": [
            "The prelim grade of student 1 is 97\n",
            "The midterm grade of student 1 is 91\n",
            "The final grade of student 1 is 95\n",
            "The semestral grade of student 1 is 94.33333333333333\n",
            "His Gender is Female\n",
            "Female\n"
          ]
        }
      ],
      "source": [
        "#@title Students Grade in OOP\n",
        "\n",
        "Student_Name1 = \"April Joy Lopez\" #@param{type: \"string\"}\n",
        "prelim = 97 #@param{type: \"number\"}\n",
        "midterm = 91#@param{type: \"number\"}\n",
        "final = 95#@param{type: \"number\"}\n",
        "semestral_grade = (prelim+midterm+final)/3\n",
        "\n",
        "print(\"The prelim grade of student 1 is \"+str(prelim))\n",
        "print(\"The midterm grade of student 1 is \"+str(midterm))\n",
        "print(\"The final grade of student 1 is \"+str(final))\n",
        "print(\"The semestral grade of student 1 is \"+str(semestral_grade))\n",
        "\n",
        "Gender = \"Female\"#@param[\"Male\",\"Female\"]\n",
        "print(\"His Gender is \"+str(Gender))\n",
        "print(Gender)\n",
        "\n",
        "Birthdate = '2003-04-22'#@param{type: \"date\"}"
      ]
    }
  ]
}